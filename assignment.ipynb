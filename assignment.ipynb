{
 "cells": [
  {
   "cell_type": "code",
   "execution_count": 1,
   "id": "84f524e7-f787-4a26-a735-7e773efd3350",
   "metadata": {},
   "outputs": [],
   "source": [
    "# For Earth Engine\n",
    "import ee\n",
    "import geemap\n",
    "\n",
    "# For Vector Operations\n",
    "import geopandas as gpd\n",
    "\n",
    "# For File Operations\n",
    "import os\n",
    "import glob\n",
    "\n",
    "import shapely\n",
    "from shapely.geometry import Polygon\n",
    "\n",
    "# from ee_computation import flatten_geom, s2_collection"
   ]
  },
  {
   "cell_type": "code",
   "execution_count": 2,
   "id": "bf329359-1dd7-4eac-9cc9-e359edeffdc2",
   "metadata": {
    "tags": []
   },
   "outputs": [],
   "source": [
    "# ee.Authenticate()\n",
    "ee.Initialize()\n",
    "Map = geemap.Map()"
   ]
  },
  {
   "cell_type": "code",
   "execution_count": 3,
   "id": "1af15f6b-42b4-4ddd-a5da-77d61048afc3",
   "metadata": {
    "tags": []
   },
   "outputs": [],
   "source": [
    "def flatten_geom(geometry) -> shapely.geometry.Polygon:\n",
    "    '''\n",
    "    Takes the Geometry in 3D and Returns 2D Geometry\n",
    "    \n",
    "    Input: Shapely.Geometry.Polygon\n",
    "    Output: list of Coordinates\n",
    "    '''\n",
    "    poly_wkt = geometry.exterior\n",
    "    flat_geom = list(Polygon([xy[0:2] for xy in list(poly_wkt.coords)]).exterior.coords)\n",
    "    return flat_geom\n",
    "\n",
    "def NDWIS2(image):\n",
    "    ndwi = image.normalizedDifference(['B8','B12']).rename('NDWI')\n",
    "    return image.addBands(ndwi)\n",
    "\n",
    "\n",
    "def NDVIS2(image):\n",
    "    ndvi = image.normalizedDifference(['B8','B4']).rename('NDVI')\n",
    "    return image.addBands(ndvi)\n",
    "\n",
    "def sclCloudMask_ndvi(image):\n",
    "    ndvi = image.select('NDVI')\n",
    "    crs = (ndvi.projection()).crs()\n",
    "    scl = image.select('SCL')\n",
    "    reScl = scl.resample('bilinear').reproject(crs = crs, scale = 10)\n",
    "    mask = reScl.gt(3) and reScl.lte(7)\n",
    "    maskedNdvi = ndvi.updateMask(mask)\n",
    "    return ee.Image(maskedNdvi)\n",
    "\n",
    "\n",
    "def sclCloudMask_ndwi(image):\n",
    "    ndvi = image.select('NDWI')\n",
    "    crs = (ndvi.projection()).crs()\n",
    "    scl = image.select('SCL')\n",
    "    reScl = scl.resample('bilinear').reproject(crs = crs, scale = 10)\n",
    "    mask = reScl.gt(3) and reScl.lte(7)\n",
    "    maskedNdvi = ndvi.updateMask(mask)\n",
    "    return ee.Image(maskedNdvi)\n",
    "\n",
    "\n",
    "def clipImage(image):\n",
    "    return image.clip(aoi)\n",
    "\n",
    "def getIndexRaster(aoi,sdate,edate, indice):\n",
    "    if indice == \"NDVI\":\n",
    "        dataset = ee.ImageCollection('COPERNICUS/S2_SR').filterDate(sdate, edate).filterBounds(aoi)\n",
    "        data=dataset.map(NDVIS2).map(sclCloudMask_ndvi).select('NDVI').map(clipImage).mean()\n",
    "        geemap.ee_export_image(data, f'{indice}_image.tif', scale = 10, region = aoi)\n",
    "    else:\n",
    "        dataset = ee.ImageCollection('COPERNICUS/S2_SR').filterDate(sdate, edate).filterBounds(aoi)\n",
    "        data=dataset.map(NDWIS2).map(sclCloudMask_ndwi).select('NDWI').map(clipImage).mean()\n",
    "        geemap.ee_export_image(data, f'{indice}_image.tif', scale = 10, region = aoi)\n"
   ]
  },
  {
   "cell_type": "code",
   "execution_count": 4,
   "id": "a9cf2687-977c-4e3a-8fa9-5a03d7524b3b",
   "metadata": {},
   "outputs": [],
   "source": [
    "\n",
    "shapefile_path = \"AOI/Kalahandi_AOI.shp\"\n",
    "\n",
    "gdf = gpd.read_file(shapefile_path)\n",
    "gdf = gdf.to_crs(4326)\n",
    "\n",
    "flat_geometry = flatten_geom(gdf.geometry[0])\n",
    "\n",
    "aoi = ee.Geometry.Polygon(flat_geometry)\n",
    "\n",
    "sdate = \"2022-01-01\"\n",
    "edate = \"2022-12-01\"\n",
    "# foo = getIndexRaster(aoi,sdate,edate, \"NDVI\")\n"
   ]
  },
  {
   "cell_type": "markdown",
   "id": "785b977b-aac9-4751-97ee-ea04545fe99a",
   "metadata": {},
   "source": [
    "-------\n",
    "\n",
    "## NDVI NDWI Using Landsat"
   ]
  },
  {
   "cell_type": "code",
   "execution_count": 22,
   "id": "2ed41428-a1b9-4e99-ad6f-ffc493dd4109",
   "metadata": {},
   "outputs": [],
   "source": [
    "def calculate_ndvi(image):\n",
    "    ndvi = image.normalizedDifference(['SR_B5', 'SR_B4']).rename('NDVI')\n",
    "    return image.addBands(ndvi)\n",
    "\n",
    "# # Function to calculate NDWI\n",
    "def calculate_ndwi(image):\n",
    "    ndwi = image.normalizedDifference(['SR_B5', 'SR_B6']).rename('NDWI')\n",
    "    return image.addBands(ndwi)\n",
    "\n",
    "\n",
    "landsat9 = (\n",
    "    # ee.ImageCollection('LANDSAT/LC09/C02/T1_TOA')\n",
    "    ee.ImageCollection(\"LANDSAT/LC09/C02/T1_L2\") \n",
    "    .filterDate(sdate, edate)\n",
    "    .filterBounds(aoi)\n",
    ").map(calculate_ndvi).map(calculate_ndwi)\n",
    "\n",
    "ndvi_image = landsat9.select('NDVI').median().clip(aoi)\n",
    "ndwi_image = landsat9.select('NDWI').median().clip(aoi)\n",
    "# geemap.ee_export_image(foo, \"landsat_ndwi.tif\")"
   ]
  },
  {
   "cell_type": "code",
   "execution_count": 23,
   "id": "ee37645e-9708-4e25-aa1a-4ce6c2df913d",
   "metadata": {},
   "outputs": [],
   "source": [
    "task = ee.batch.Export.image.toDrive(\n",
    "    image=ndwi_image,\n",
    "    description='ndwi_export',\n",
    "    folder='ee_demos',\n",
    "    region=aoi,\n",
    "    scale=30,\n",
    "    crs='EPSG:4326'\n",
    ")\n",
    "\n",
    "task.start()"
   ]
  },
  {
   "cell_type": "markdown",
   "id": "dfc4f406-d7ea-4b04-80f1-346c7412cdaf",
   "metadata": {},
   "source": [
    "------\n",
    "## NDVI and NDWI using MODIS "
   ]
  },
  {
   "cell_type": "code",
   "execution_count": 16,
   "id": "68182a3b-2cf9-44a7-8187-6d4a2501b574",
   "metadata": {},
   "outputs": [],
   "source": [
    "modis = ee.ImageCollection('MODIS/006/MOD09GA') \\\n",
    "    .filterDate('2022-01-01', '2022-01-30') \\\n",
    "    .filterBounds(aoi) \\\n",
    "    .select(['sur_refl_b01', 'sur_refl_b02'])  # bands 1 (red) and 2 (near-infrared)\n",
    "\n",
    "# Define the NDVI calculation function\n",
    "def calculate_ndvi_modis(image):\n",
    "    ndvi = image.normalizedDifference(['sur_refl_b02', 'sur_refl_b01']).rename('ndvi')\n",
    "    return image.addBands(ndvi)\n",
    "\n",
    "def calculate_ndwi_modis(image):\n",
    "    ndwi = image.normalizedDifference(['sur_refl_b02', 'sur_refl_b03']).rename('ndwi')\n",
    "    return image.addBands(ndwi)"
   ]
  },
  {
   "cell_type": "code",
   "execution_count": 17,
   "id": "e2d872c9-dd7f-42f2-b2c1-4a3e6e425d4a",
   "metadata": {},
   "outputs": [],
   "source": [
    "modis_ndvi = modis.map(calculate_ndvi_modis).mean().clip(aoi)"
   ]
  },
  {
   "cell_type": "code",
   "execution_count": 18,
   "id": "95413fcc-b5d2-4f0c-a9bb-c3022e4f20b4",
   "metadata": {},
   "outputs": [],
   "source": [
    "task = ee.batch.Export.image.toDrive(\n",
    "    image=modis_ndvi,\n",
    "    description='modis_ndvi',\n",
    "    folder='ee_demos',\n",
    "    region=aoi,\n",
    "    scale=250,\n",
    "    crs='EPSG:4326'\n",
    ")\n",
    "\n",
    "task.start()"
   ]
  },
  {
   "cell_type": "code",
   "execution_count": 24,
   "id": "3754b2f1-6910-42d2-a70a-b3c9e0f1c1cc",
   "metadata": {},
   "outputs": [
    {
     "data": {
      "application/vnd.jupyter.widget-view+json": {
       "model_id": "f6f69946055b45c4bb37f47f67d19906",
       "version_major": 2,
       "version_minor": 0
      },
      "text/plain": [
       "Map(bottom=464880.0, center=[19.846209304392055, 82.82125549696741], controls=(WidgetControl(options=['positio…"
      ]
     },
     "execution_count": 24,
     "metadata": {},
     "output_type": "execute_result"
    }
   ],
   "source": [
    "Map.centerObject(aoi, 10)\n",
    "Map.addLayer(ndwi_image)\n",
    "Map"
   ]
  },
  {
   "cell_type": "code",
   "execution_count": null,
   "id": "2ab49269-a950-4af2-ae2d-7d36857bae20",
   "metadata": {},
   "outputs": [],
   "source": []
  }
 ],
 "metadata": {
  "kernelspec": {
   "display_name": "Python 3 (ipykernel)",
   "language": "python",
   "name": "python3"
  },
  "language_info": {
   "codemirror_mode": {
    "name": "ipython",
    "version": 3
   },
   "file_extension": ".py",
   "mimetype": "text/x-python",
   "name": "python",
   "nbconvert_exporter": "python",
   "pygments_lexer": "ipython3",
   "version": "3.8.13"
  }
 },
 "nbformat": 4,
 "nbformat_minor": 5
}
